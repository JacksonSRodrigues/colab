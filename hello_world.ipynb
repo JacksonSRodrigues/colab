{
  "nbformat": 4,
  "nbformat_minor": 0,
  "metadata": {
    "colab": {
      "name": "hello_world.ipynb",
      "version": "0.3.2",
      "provenance": [],
      "collapsed_sections": [],
      "include_colab_link": true
    },
    "kernelspec": {
      "name": "python3",
      "display_name": "Python 3"
    }
  },
  "cells": [
    {
      "cell_type": "markdown",
      "metadata": {
        "id": "view-in-github",
        "colab_type": "text"
      },
      "source": [
        "<a href=\"https://colab.research.google.com/github/JacksonSRodrigues/colab/blob/master/hello_world.ipynb\" target=\"_parent\"><img src=\"https://colab.research.google.com/assets/colab-badge.svg\" alt=\"Open In Colab\"/></a>"
      ]
    },
    {
      "metadata": {
        "id": "wW6T7quE5PS4",
        "colab_type": "text"
      },
      "cell_type": "markdown",
      "source": [
        "# Quick Start\n",
        "\n",
        "## Text Blocks \n",
        "To create a text block click the button **+ TEXT** at the top menu bar. Text Blocks are capable of rendering Markdown like content, which could be used as description of the code blocks"
      ]
    },
    {
      "metadata": {
        "id": "4o_fCrJz8RDL",
        "colab_type": "text"
      },
      "cell_type": "markdown",
      "source": [
        "## Code Blocks\n",
        "To create code block, click the button **+ CODE**, which opens a block where you can type in Python Code. Once done on the left side you will see a play button on clicking it, the code would get executed and result would be displayed below"
      ]
    },
    {
      "metadata": {
        "id": "FTDh9sfw5nt3",
        "colab_type": "code",
        "colab": {}
      },
      "cell_type": "code",
      "source": [
        "hello = \"Hello World!\"\n",
        "print(hello)\n",
        "\n",
        "\n",
        "def hello_by_name(name):\n",
        "  return 'Hello {}!'.format(name)"
      ],
      "execution_count": 0,
      "outputs": []
    },
    {
      "metadata": {
        "id": "FYyLw5Cn9SaY",
        "colab_type": "text"
      },
      "cell_type": "markdown",
      "source": [
        "### Multiple code blocks run in same scope\n",
        "Variables defined in on codeblock is available for use in different code block. So are functions"
      ]
    },
    {
      "metadata": {
        "id": "7xqRDyQZ9lrb",
        "colab_type": "code",
        "colab": {}
      },
      "cell_type": "code",
      "source": [
        "print(hello_by_name('Jackson'))"
      ],
      "execution_count": 0,
      "outputs": []
    }
  ]
}